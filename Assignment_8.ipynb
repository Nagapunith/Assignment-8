{
  "nbformat": 4,
  "nbformat_minor": 0,
  "metadata": {
    "colab": {
      "name": "Assignment 8",
      "provenance": [],
      "collapsed_sections": []
    },
    "kernelspec": {
      "name": "python3",
      "display_name": "Python 3"
    }
  },
  "cells": [
    {
      "cell_type": "code",
      "metadata": {
        "id": "pFJ8c6Fv_ubM",
        "colab_type": "code",
        "colab": {
          "base_uri": "https://localhost:8080/",
          "height": 34
        },
        "outputId": "4cf2720d-f763-4d45-d933-ffb76ffccbf8"
      },
      "source": [
        "name='punith'\n",
        "print(len(name))"
      ],
      "execution_count": 1,
      "outputs": [
        {
          "output_type": "stream",
          "text": [
            "6\n"
          ],
          "name": "stdout"
        }
      ]
    },
    {
      "cell_type": "code",
      "metadata": {
        "id": "r5GubGJN_4pX",
        "colab_type": "code",
        "colab": {
          "base_uri": "https://localhost:8080/",
          "height": 34
        },
        "outputId": "14194a17-df2f-44cd-d195-e7e502fac5f4"
      },
      "source": [
        " def remove(string, i): \n",
        "  a = string[ : i]  \n",
        "  b = string[i + 1: ] \n",
        "  return a + b \n",
        "if __name__ == '__main__':  \n",
        "  string = \"Punith\"   \n",
        "  i = 6  \n",
        "  print(remove(string, i))"
      ],
      "execution_count": 3,
      "outputs": [
        {
          "output_type": "stream",
          "text": [
            "Punith\n"
          ],
          "name": "stdout"
        }
      ]
    },
    {
      "cell_type": "code",
      "metadata": {
        "id": "L1K7oqihgEFF",
        "colab_type": "code",
        "colab": {
          "base_uri": "https://localhost:8080/",
          "height": 67
        },
        "outputId": "2de7613c-649a-4679-d7f9-11bf80445148"
      },
      "source": [
        " string=input(\"Enter string:\")\n",
        "sub_str=input(\"Enter word:\")\n",
        "if(string.find(sub_str)==1):\n",
        "      print(\"Substring not found in string\")\n",
        "else:      \n",
        "      print(\"Substring found in string\")"
      ],
      "execution_count": 4,
      "outputs": [
        {
          "output_type": "stream",
          "text": [
            "Enter string:Punith\n",
            "Enter word:Naga\n",
            "Substring found in string\n"
          ],
          "name": "stdout"
        }
      ]
    },
    {
      "cell_type": "code",
      "metadata": {
        "id": "JVbJ7E5Dgfob",
        "colab_type": "code",
        "colab": {
          "base_uri": "https://localhost:8080/",
          "height": 50
        },
        "outputId": "1c2ac27a-60eb-4ed2-a72a-147161d4a674"
      },
      "source": [
        "name=\"Punith\"\n",
        "print(name== \"Punith\")\n",
        "print(name==\"Naga\")"
      ],
      "execution_count": 5,
      "outputs": [
        {
          "output_type": "stream",
          "text": [
            "True\n",
            "False\n"
          ],
          "name": "stdout"
        }
      ]
    },
    {
      "cell_type": "code",
      "metadata": {
        "id": "G6zfSDxBgu17",
        "colab_type": "code",
        "colab": {
          "base_uri": "https://localhost:8080/",
          "height": 50
        },
        "outputId": "473e558f-3c7d-4a38-8432-eede8689357b"
      },
      "source": [
        "str = input(\"Enter  String : \")\n",
        "total = 0\n",
        "for i in str:\n",
        "    total = total + 1 \n",
        "print(\"Number of Characters in the String is\",total)"
      ],
      "execution_count": 6,
      "outputs": [
        {
          "output_type": "stream",
          "text": [
            "Enter  String : Punith\n",
            "Number of Characters in the String is 6\n"
          ],
          "name": "stdout"
        }
      ]
    },
    {
      "cell_type": "code",
      "metadata": {
        "id": "HWuqoRl4m9Xz",
        "colab_type": "code",
        "colab": {
          "base_uri": "https://localhost:8080/",
          "height": 34
        },
        "outputId": "85016314-8da9-4d51-df58-aea9f30f8af0"
      },
      "source": [
        "a = \"refrigerator\"\n",
        "count = 0\n",
        "for i in a:\n",
        "  count = count+1\n",
        "print(count)"
      ],
      "execution_count": null,
      "outputs": [
        {
          "output_type": "stream",
          "text": [
            "12\n"
          ],
          "name": "stdout"
        }
      ]
    },
    {
      "cell_type": "code",
      "metadata": {
        "id": "zw3d2UipnM_L",
        "colab_type": "code",
        "colab": {
          "base_uri": "https://localhost:8080/",
          "height": 34
        },
        "outputId": "2a7d63ea-4d67-4552-a7a1-2c2b63420ba8"
      },
      "source": [
        "str=\"hello world\"\n",
        "print(str.count('o'))"
      ],
      "execution_count": null,
      "outputs": [
        {
          "output_type": "stream",
          "text": [
            "2\n"
          ],
          "name": "stdout"
        }
      ]
    },
    {
      "cell_type": "code",
      "metadata": {
        "id": "l2nULkG9nTHF",
        "colab_type": "code",
        "colab": {
          "base_uri": "https://localhost:8080/",
          "height": 34
        },
        "outputId": "653808cb-ab6a-4f99-f167-262d5e9df2bc"
      },
      "source": [
        "string = \" is punith is good boy ?\"\n",
        "substring = \"no\"\n",
        "count = string.count(substring)\n",
        "print(\"count is:\", count)"
      ],
      "execution_count": null,
      "outputs": [
        {
          "output_type": "stream",
          "text": [
            "count is: 0\n"
          ],
          "name": "stdout"
        }
      ]
    },
    {
      "cell_type": "code",
      "metadata": {
        "id": "Ai5nJXOknG6g",
        "colab_type": "code",
        "colab": {
          "base_uri": "https://localhost:8080/",
          "height": 67
        },
        "outputId": "5175c4eb-f696-42c2-978e-22fa6a7c80be"
      },
      "source": [
        "str_input = input(\"Enter your name:  \")\n",
        "print (\"name with lower() = \", str_input.lower())\n",
        "print (\"name with upper() = \", str_input.upper())"
      ],
      "execution_count": 7,
      "outputs": [
        {
          "output_type": "stream",
          "text": [
            "Enter your name:  punith\n",
            "name with lower() =  punith\n",
            "name with upper() =  PUNITH\n"
          ],
          "name": "stdout"
        }
      ]
    },
    {
      "cell_type": "code",
      "metadata": {
        "id": "lJ3mFnganrdT",
        "colab_type": "code",
        "colab": {
          "base_uri": "https://localhost:8080/",
          "height": 118
        },
        "outputId": "845f52fc-00c3-407a-f141-51a9e9f2b376"
      },
      "source": [
        "i=0\n",
        "a='Punith'\n",
        "for i in a:\n",
        "    print(i)"
      ],
      "execution_count": 8,
      "outputs": [
        {
          "output_type": "stream",
          "text": [
            "P\n",
            "u\n",
            "n\n",
            "i\n",
            "t\n",
            "h\n"
          ],
          "name": "stdout"
        }
      ]
    }
  ]
}